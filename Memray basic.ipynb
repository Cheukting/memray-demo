{
 "cells": [
  {
   "cell_type": "code",
   "execution_count": null,
   "id": "b8c25ef7",
   "metadata": {},
   "outputs": [],
   "source": [
    "%load_ext memray"
   ]
  },
  {
   "cell_type": "code",
   "execution_count": null,
   "id": "ba3a4a78",
   "metadata": {},
   "outputs": [],
   "source": [
    "%%memray_flamegraph\n",
    "\n",
    "def a(n):\n",
    "    return b(n)\n",
    "\n",
    "def b(n):\n",
    "    return [c(n), d(n)]\n",
    "\n",
    "def c(n):\n",
    "    return \"a\" * n\n",
    "\n",
    "def d(n):\n",
    "    return \"a\" * n\n",
    "\n",
    "a(100000)"
   ]
  },
  {
   "cell_type": "code",
   "execution_count": null,
   "id": "832b6e6d",
   "metadata": {},
   "outputs": [],
   "source": [
    "%%memray_flamegraph\n",
    "\n",
    "def a(n):\n",
    "    return [b(n), h(n)]\n",
    "\n",
    "def b(n):\n",
    "    return c(n)\n",
    "\n",
    "def c(n):\n",
    "    missing(n)\n",
    "    return d(n)\n",
    "\n",
    "def missing(n):\n",
    "    return \"a\" * n\n",
    "\n",
    "def d(n):\n",
    "    return [e(n), f(n), \"a\" * (n // 2)]\n",
    "\n",
    "def e(n):\n",
    "    return \"a\" * n\n",
    "\n",
    "def f(n):\n",
    "    return g(n)\n",
    "\n",
    "def g(n):\n",
    "    return \"a\" * n * 2\n",
    "\n",
    "def h(n):\n",
    "    return i(n)\n",
    "\n",
    "def i(n):\n",
    "    return \"a\" * n\n",
    "\n",
    "a(100000)"
   ]
  },
  {
   "cell_type": "code",
   "execution_count": null,
   "id": "2ce83db3",
   "metadata": {},
   "outputs": [],
   "source": []
  }
 ],
 "metadata": {
  "kernelspec": {
   "display_name": "Python 3 (ipykernel)",
   "language": "python",
   "name": "python3"
  },
  "language_info": {
   "codemirror_mode": {
    "name": "ipython",
    "version": 3
   },
   "file_extension": ".py",
   "mimetype": "text/x-python",
   "name": "python",
   "nbconvert_exporter": "python",
   "pygments_lexer": "ipython3",
   "version": "3.10.9"
  }
 },
 "nbformat": 4,
 "nbformat_minor": 5
}
