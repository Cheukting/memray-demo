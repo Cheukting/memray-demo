{
 "cells": [
  {
   "cell_type": "code",
   "execution_count": null,
   "id": "f17370ca",
   "metadata": {},
   "outputs": [],
   "source": [
    "%load_ext memray"
   ]
  },
  {
   "cell_type": "code",
   "execution_count": null,
   "id": "c7469026",
   "metadata": {},
   "outputs": [],
   "source": [
    "import pandas as pd"
   ]
  },
  {
   "cell_type": "code",
   "execution_count": null,
   "id": "f7b9fa93",
   "metadata": {},
   "outputs": [],
   "source": [
    "pd_review = pd.read_csv(\"ice_cream/reviews.csv\")"
   ]
  },
  {
   "cell_type": "code",
   "execution_count": null,
   "id": "c407e3eb",
   "metadata": {},
   "outputs": [],
   "source": [
    "pd_review.head()"
   ]
  },
  {
   "cell_type": "code",
   "execution_count": null,
   "id": "1e17359c",
   "metadata": {},
   "outputs": [],
   "source": [
    "pd_product = pd.read_csv(\"ice_cream/products.csv\")"
   ]
  },
  {
   "cell_type": "code",
   "execution_count": null,
   "id": "0ef0c031",
   "metadata": {},
   "outputs": [],
   "source": [
    "pd_product.head()"
   ]
  },
  {
   "cell_type": "code",
   "execution_count": null,
   "id": "545e2288",
   "metadata": {},
   "outputs": [],
   "source": [
    "def get_year_stat():\n",
    "    pd_review[\"year\"] = pd_review[\"date\"].apply(lambda x: x[:4])\n",
    "    return (\n",
    "        pd_review[[\"year\", \"key\", \"stars\"]]\n",
    "        .groupby(by=[\"year\", \"key\"])\n",
    "        .agg([\"mean\", \"count\"])\n",
    "        .reset_index()\n",
    "    )"
   ]
  },
  {
   "cell_type": "code",
   "execution_count": null,
   "id": "a82f3375",
   "metadata": {},
   "outputs": [],
   "source": [
    "def get_year_stat_ver2():\n",
    "    pd_review[\"dt\"] = pd.to_datetime(pd_review[\"date\"], format='%Y-%m-%d')\n",
    "    pd_review[\"year\"] = pd_review[\"dt\"].apply(lambda x: x.year)\n",
    "    return (\n",
    "        pd_review[[\"year\", \"key\", \"stars\"]]\n",
    "        .groupby(by=[\"year\", \"key\"])\n",
    "        .agg([\"mean\", \"count\"])\n",
    "        .reset_index()\n",
    "    )"
   ]
  },
  {
   "cell_type": "code",
   "execution_count": null,
   "id": "aa06b32a",
   "metadata": {},
   "outputs": [],
   "source": [
    "def year_performance():\n",
    "    pd_year_review = get_year_stat()\n",
    "    pd_year_review.columns = [\n",
    "        '_'.join(col).strip('_') for col in pd_year_review.columns.values\n",
    "    ]\n",
    "    return(\n",
    "        pd_year_review.set_index(\"key\")\n",
    "        .join(\n",
    "            pd_product[\n",
    "                [\"brand\", \"key\", \"name\", \"subhead\", \"description\", \"ingredients\"]\n",
    "            ].set_index(\"key\")\n",
    "        ).reset_index()\n",
    "    )\n"
   ]
  },
  {
   "cell_type": "code",
   "execution_count": null,
   "id": "692b3210",
   "metadata": {},
   "outputs": [],
   "source": [
    "%%memray_flamegraph\n",
    "\n",
    "year_performance().head()"
   ]
  },
  {
   "cell_type": "code",
   "execution_count": null,
   "id": "d9ab56ef",
   "metadata": {},
   "outputs": [],
   "source": [
    "def year_performance_ver2():\n",
    "    pd_year_review = get_year_stat_ver2()\n",
    "    pd_year_review.columns = [\n",
    "        '_'.join(col).strip('_') for col in pd_year_review.columns.values\n",
    "    ]\n",
    "    return(\n",
    "        pd_year_review.set_index(\"key\")\n",
    "        .join(\n",
    "            pd_product[\n",
    "                [\"brand\", \"key\", \"name\", \"subhead\", \"description\", \"ingredients\"]\n",
    "            ].set_index(\"key\")\n",
    "        ).reset_index()\n",
    "    )\n"
   ]
  },
  {
   "cell_type": "code",
   "execution_count": null,
   "id": "bf83677d",
   "metadata": {},
   "outputs": [],
   "source": [
    "%%memray_flamegraph\n",
    "\n",
    "year_performance_ver2().head()"
   ]
  },
  {
   "cell_type": "code",
   "execution_count": null,
   "id": "c8550caf",
   "metadata": {},
   "outputs": [],
   "source": []
  }
 ],
 "metadata": {
  "kernelspec": {
   "display_name": "Python 3 (ipykernel)",
   "language": "python",
   "name": "python3"
  },
  "language_info": {
   "codemirror_mode": {
    "name": "ipython",
    "version": 3
   },
   "file_extension": ".py",
   "mimetype": "text/x-python",
   "name": "python",
   "nbconvert_exporter": "python",
   "pygments_lexer": "ipython3",
   "version": "3.10.9"
  }
 },
 "nbformat": 4,
 "nbformat_minor": 5
}
